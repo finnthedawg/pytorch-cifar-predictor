{
 "cells": [
  {
   "cell_type": "code",
   "execution_count": 14,
   "metadata": {},
   "outputs": [],
   "source": [
    "#Import relevant packages\n",
    "import torch\n",
    "import torch.nn as nn\n",
    "import torch.nn.functional as F\n",
    "import numpy as np\n",
    "import pickle #To unpack the file\n",
    "import matplotlib.pyplot as plt #For plotting\n",
    "import torch.optim as optim #Parameter optimization functions\n",
    "from torch.utils.data import Dataset, DataLoader, ConcatDataset #Creating the Dataset and DataLoader\n",
    "import torchvision\n",
    "import torchvision.transforms as transforms #Scaling"
   ]
  },
  {
   "cell_type": "code",
   "execution_count": 15,
   "metadata": {},
   "outputs": [
    {
     "name": "stdout",
     "output_type": "stream",
     "text": [
      "cuda:0\n"
     ]
    }
   ],
   "source": [
    "#Check GPU status\n",
    "device = torch.device(\"cuda:0\" if torch.cuda.is_available() else \"cpu\")\n",
    "print(device)"
   ]
  },
  {
   "cell_type": "markdown",
   "metadata": {},
   "source": [
    "## Create the dataLoader class"
   ]
  },
  {
   "cell_type": "markdown",
   "metadata": {},
   "source": [
    "The data is pickled which means that the objects are converted into a byte stream. We will unpickle the object to get back the original data. (https://www.cs.toronto.edu/~kriz/cifar.html). Below is the Dataset class which can be used in torch.utils.data.dataLoader"
   ]
  },
  {
   "cell_type": "code",
   "execution_count": 16,
   "metadata": {},
   "outputs": [],
   "source": [
    "class cifarDataset(Dataset):\n",
    "    def __init__(self, filePath, transform=None):\n",
    "        self.images, self.labels = self.__loadImages__(filePath)\n",
    "        self.transform = transform\n",
    "\n",
    "    def __loadImages__(self, filePath):\n",
    "        object = self.__unpickle__(filePath) #Extract our dataset\n",
    "        X = object[b'data']\n",
    "        X = X.reshape(len(object[b'data']),3,32,32) #Reshape to Color and the corresponding XY coordinates\n",
    "        l = object[b'labels']\n",
    "        return(X,l)\n",
    "    \n",
    "    def __len__(self):\n",
    "        return len(self.images)\n",
    "    \n",
    "    def __getitem__(self, idx):\n",
    "        image = self.images[idx]\n",
    "        #print(\"Before permute\", image.shape)\n",
    "        image = np.transpose(image, (1,2,0)) #Permute because transforms.ToTensor converts HWC to CHW\n",
    "        #print(\"After permute\", image.shape )\n",
    "        image = transforms.ToTensor()(image)\n",
    "        #print(\"ToTensor\", image.shape)\n",
    "        #print(\"Before\", image)\n",
    "        image = transforms.Normalize((0.5, 0.5, 0.5), (0.5, 0.5, 0.5))(image) #Normalize our image\n",
    "        #print(\"After\", image)\n",
    "        sample = {'image':image, 'label':self.labels[idx]}\n",
    "        return(sample)\n",
    "        \n",
    "    def __unpickle__(self, file):\n",
    "        with open(file, 'rb') as fo:\n",
    "            dict = pickle.load(fo, encoding='bytes')\n",
    "        return dict\n",
    "        "
   ]
  },
  {
   "cell_type": "code",
   "execution_count": 17,
   "metadata": {},
   "outputs": [],
   "source": [
    "def showImage(img, label='Not labeled'):\n",
    "    img = img / 2 + 0.5     # unnormalize\n",
    "    img = img.permute(1,2,0)\n",
    "    plt.imshow(img)\n",
    "    plt.xlabel(label)\n",
    "    plt.show()"
   ]
  },
  {
   "cell_type": "code",
   "execution_count": 18,
   "metadata": {},
   "outputs": [],
   "source": [
    "def getLabel(number):\n",
    "    names = ['airplane', 'automobile', 'bird', 'cat', 'deer', 'dog', 'frog', 'horse', 'ship', 'truck']\n",
    "    return(names[number])"
   ]
  },
  {
   "cell_type": "markdown",
   "metadata": {},
   "source": [
    "## Load the dataset"
   ]
  },
  {
   "cell_type": "code",
   "execution_count": 19,
   "metadata": {},
   "outputs": [],
   "source": [
    "batch1 = cifarDataset(filePath='data/cifar-10-batches-py/data_batch_1')\n",
    "batch2 = cifarDataset(filePath='data/cifar-10-batches-py/data_batch_2')\n",
    "batch3 = cifarDataset(filePath='data/cifar-10-batches-py/data_batch_3')\n",
    "batch4 = cifarDataset(filePath='data/cifar-10-batches-py/data_batch_4')\n",
    "batch5 = cifarDataset(filePath='data/cifar-10-batches-py/data_batch_5')"
   ]
  },
  {
   "cell_type": "code",
   "execution_count": 20,
   "metadata": {},
   "outputs": [],
   "source": [
    "#Concatenate our training dataset\n",
    "batches = torch.utils.data.ConcatDataset([batch1,batch2, batch3, batch4, batch5])"
   ]
  },
  {
   "cell_type": "code",
   "execution_count": 21,
   "metadata": {},
   "outputs": [],
   "source": [
    "#Use the dataLoader to extract images from our dataset\n",
    "trainloader = DataLoader(batches, batch_size=5, shuffle=True, num_workers=4)"
   ]
  },
  {
   "cell_type": "code",
   "execution_count": 22,
   "metadata": {},
   "outputs": [],
   "source": [
    "testBatch = cifarDataset(filePath='data/cifar-10-batches-py/test_batch')\n",
    "#Create the dataLoader for our test set\n",
    "testloader = DataLoader(testBatch, batch_size=1, shuffle=True, num_workers=4)"
   ]
  },
  {
   "cell_type": "code",
   "execution_count": 23,
   "metadata": {
    "scrolled": false
   },
   "outputs": [
    {
     "name": "stdout",
     "output_type": "stream",
     "text": [
      "Batch information:  0 torch.Size([5, 3, 32, 32]) tensor([ 1,  3,  4,  6,  3])\n"
     ]
    },
    {
     "data": {
      "image/png": "[encoded data removed]",
      "text/plain": [
       "<Figure size 432x288 with 1 Axes>"
      ]
     },
     "metadata": {
      "needs_background": "light"
     },
     "output_type": "display_data"
    }
   ],
   "source": [
    "#Try using the dataloader to print one image\n",
    "for i_batch, sample_batched in enumerate(trainloader):\n",
    "    print(\"Batch information: \", i_batch, sample_batched['image'].size(), sample_batched['label'])\n",
    "    showImage(sample_batched['image'][0],getLabel(sample_batched['label'][0]))\n",
    "    break"
   ]
  },
  {
   "cell_type": "markdown",
   "metadata": {},
   "source": [
    "## Create a CNN model"
   ]
  },
  {
   "cell_type": "code",
   "execution_count": 27,
   "metadata": {},
   "outputs": [],
   "source": [
    "#Define the neural net.\n",
    "class CNN(nn.Module):\n",
    "    \n",
    "    def __init__(self):\n",
    "        #Define the network\n",
    "        super(CNN, self).__init__()\n",
    "        self.conv1 = nn.Conv2d(3, 8, 5) #We have 3 channels. Output 6 feature map with 5x5 kernel\n",
    "        self.pool = nn.MaxPool2d(2,2)\n",
    "        self.conv2 = nn.Conv2d(8, 20, 5)\n",
    "        self.fc1 = nn.Linear(20 * 5 * 5, 150)\n",
    "        self.fc2 = nn.Linear(150, 50)\n",
    "        self.fc3 = nn.Linear(50, 10)\n",
    "        \n",
    "        # Adding a layer for LogSoftmax to obtain log probabilities\n",
    "        # As recommended in documentation for Negative log likelihood loss https://pytorch.org/docs/stable/nn.html#nllloss\n",
    "        self.logsoftmax = nn.LogSoftmax(dim=1) \n",
    "\n",
    "    def forward(self, x):\n",
    "        x = self.pool(F.relu(self.conv1(x)))\n",
    "        x = self.pool(F.relu(self.conv2(x)))\n",
    "        x = x.view(-1, 20 * 5 * 5)\n",
    "        x = F.relu(self.fc1(x))\n",
    "        x = F.relu(self.fc2(x))\n",
    "        x = self.logsoftmax(self.fc3(x))\n",
    "        return(x)\n"
   ]
  },
  {
   "cell_type": "markdown",
   "metadata": {},
   "source": [
    "## Train the network"
   ]
  },
  {
   "cell_type": "code",
   "execution_count": 28,
   "metadata": {},
   "outputs": [
    {
     "name": "stdout",
     "output_type": "stream",
     "text": [
      "CNN(\n",
      "  (conv1): Conv2d(3, 8, kernel_size=(5, 5), stride=(1, 1))\n",
      "  (pool): MaxPool2d(kernel_size=2, stride=2, padding=0, dilation=1, ceil_mode=False)\n",
      "  (conv2): Conv2d(8, 20, kernel_size=(5, 5), stride=(1, 1))\n",
      "  (fc1): Linear(in_features=500, out_features=150, bias=True)\n",
      "  (fc2): Linear(in_features=150, out_features=50, bias=True)\n",
      "  (fc3): Linear(in_features=50, out_features=10, bias=True)\n",
      "  (logsoftmax): LogSoftmax()\n",
      ")\n"
     ]
    }
   ],
   "source": [
    "#Initialize the neural net\n",
    "classifier = CNN()\n",
    "classifier.to(device)\n",
    "print(classifier)\n",
    "#Create the optim\n",
    "optimizer = optim.SGD(classifier.parameters(), lr=0.005, momentum=0.8)"
   ]
  },
  {
   "cell_type": "code",
   "execution_count": 29,
   "metadata": {},
   "outputs": [
    {
     "name": "stdout",
     "output_type": "stream",
     "text": [
      "Epoch: 1. Minibatch 5000 loss 1.796\n",
      "Epoch: 1. Minibatch 10000 loss 1.471\n",
      "Epoch: 2. Minibatch 5000 loss 1.345\n",
      "Epoch: 2. Minibatch 10000 loss 1.294\n",
      "Epoch: 3. Minibatch 5000 loss 1.193\n",
      "Epoch: 3. Minibatch 10000 loss 1.197\n",
      "Epoch: 4. Minibatch 5000 loss 1.106\n",
      "Epoch: 4. Minibatch 10000 loss 1.124\n",
      "Epoch: 5. Minibatch 5000 loss 1.042\n",
      "Epoch: 5. Minibatch 10000 loss 1.076\n",
      "Epoch: 6. Minibatch 5000 loss 1.007\n",
      "Epoch: 6. Minibatch 10000 loss 1.019\n",
      "Epoch: 7. Minibatch 5000 loss 0.962\n",
      "Epoch: 7. Minibatch 10000 loss 0.996\n",
      "Epoch: 8. Minibatch 5000 loss 0.926\n",
      "Epoch: 8. Minibatch 10000 loss 0.987\n",
      "Epoch: 9. Minibatch 5000 loss 0.910\n",
      "Epoch: 9. Minibatch 10000 loss 0.957\n",
      "Epoch: 10. Minibatch 5000 loss 0.872\n",
      "Epoch: 10. Minibatch 10000 loss 0.935\n"
     ]
    }
   ],
   "source": [
    "LossCount = []\n",
    "for epoch in range(10):\n",
    "    #Load batches from our trainLoader\n",
    "    LossAggregate = 0\n",
    "    for i_batch, sample_batched in enumerate(trainloader):\n",
    "        \n",
    "        #Get our data\n",
    "        image = sample_batched['image']\n",
    "        label = sample_batched['label']\n",
    "        image, label = image.to(device), label.to(device)\n",
    "        # zero the gradient of optimizer\n",
    "        optimizer.zero_grad()\n",
    "        \n",
    "        # forward pass\n",
    "        output = classifier(image)\n",
    "        # Use Negative Likelihood Loss\n",
    "        loss = nn.NLLLoss()(output, label)\n",
    "        \n",
    "        #Record stats for every 100. Print average loss.\n",
    "        LossAggregate += loss.item()\n",
    "        if i_batch % 5000 == 4999: # print every 5000 batches (25000 images) \n",
    "            print('Epoch: %d. Minibatch %d loss %.3f' % (epoch + 1, i_batch+1, LossAggregate / 5000))\n",
    "            LossCount.append(LossAggregate/5000)\n",
    "            LossAggregate = 0.0\n",
    "            \n",
    "        #Propagate our losses\n",
    "        loss.backward()\n",
    "        optimizer.step()"
   ]
  },
  {
   "cell_type": "code",
   "execution_count": 30,
   "metadata": {},
   "outputs": [
    {
     "data": {
      "image/png": "[encoded data removed]",
      "text/plain": [
       "<Figure size 432x288 with 1 Axes>"
      ]
     },
     "metadata": {
      "needs_background": "light"
     },
     "output_type": "display_data"
    }
   ],
   "source": [
    "#Plot the loss curve\n",
    "plt.plot(LossCount)\n",
    "plt.title('Loss over full set')\n",
    "plt.ylabel('Loss')\n",
    "plt.xlabel('Epoch')\n",
    "plt.show()"
   ]
  },
  {
   "cell_type": "markdown",
   "metadata": {},
   "source": [
    "## Evaluate the accuracy"
   ]
  },
  {
   "cell_type": "code",
   "execution_count": 31,
   "metadata": {},
   "outputs": [
    {
     "name": "stdout",
     "output_type": "stream",
     "text": [
      "Accuracy on our 10000 test set is 62 percent\n"
     ]
    }
   ],
   "source": [
    "correct = 0\n",
    "total = 0\n",
    "with torch.no_grad():\n",
    "    for i_batch, sample_batched in enumerate(testloader):\n",
    "\n",
    "        #Get our data\n",
    "        image = sample_batched['image']\n",
    "        label = sample_batched['label']\n",
    "        image, label = image.to(device), label.to(device)\n",
    "        #Foward pass\n",
    "        output = classifier(image)\n",
    "        value = torch.max(output.data,1)[1]\n",
    "        total += 1\n",
    "        if value == label:\n",
    "            correct += 1\n",
    "print('Accuracy on our 10000 test set is %d percent' % (100 * correct/total))"
   ]
  },
  {
   "cell_type": "code",
   "execution_count": null,
   "metadata": {},
   "outputs": [],
   "source": []
  },
  {
   "cell_type": "code",
   "execution_count": null,
   "metadata": {},
   "outputs": [],
   "source": []
  },
  {
   "cell_type": "code",
   "execution_count": null,
   "metadata": {},
   "outputs": [],
   "source": []
  }
 ],
 "metadata": {
  "kernelspec": {
   "display_name": "Python 3",
   "language": "python",
   "name": "python3"
  },
  "language_info": {
   "codemirror_mode": {
    "name": "ipython",
    "version": 3
   },
   "file_extension": ".py",
   "mimetype": "text/x-python",
   "name": "python",
   "nbconvert_exporter": "python",
   "pygments_lexer": "ipython3",
   "version": "3.6.7"
  }
 },
 "nbformat": 4,
 "nbformat_minor": 2
}
